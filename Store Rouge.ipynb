{
 "cells": [
  {
   "cell_type": "code",
   "execution_count": 12,
   "id": "716a342d",
   "metadata": {},
   "outputs": [],
   "source": [
    "import pandas as pd\n",
    "import numpy as np\n",
    "import warnings\n",
    "# warnings.filterwarnings(\"ignore\")"
   ]
  },
  {
   "cell_type": "code",
   "execution_count": 37,
   "id": "2600f1c1",
   "metadata": {},
   "outputs": [],
   "source": [
    "from rouge_score import rouge_scorer \n",
    "# take 3 n gram models and rougeL and rougeLsum types of score\n",
    "scorer = rouge_scorer.RougeScorer(['rouge1', 'rouge2', 'rouge3', 'rougeL', 'rougeLsum'], use_stemmer=True)\n",
    "\n",
    "def get_rougue_score(text, highlights, metric=\"rougeL\"):\n",
    "    score =  scorer.score(text, highlights)[metric].fmeasure\n",
    "    return score"
   ]
  },
  {
   "cell_type": "code",
   "execution_count": 13,
   "id": "ead50e79",
   "metadata": {},
   "outputs": [],
   "source": [
    "df = pd.read_csv(\"bart_predictions.csv\")"
   ]
  },
  {
   "cell_type": "code",
   "execution_count": 40,
   "id": "ef362c7f",
   "metadata": {},
   "outputs": [],
   "source": [
    "df['Rouge1'] = df.apply(lambda x: get_rougue_score(x['Actual Text'], x['Generated Text'], metric=\"rouge1\"), axis=1)\n",
    "df['Rouge2'] = df.apply(lambda x: get_rougue_score(x['Actual Text'], x['Generated Text'], metric=\"rouge2\"), axis=1)\n",
    "df['Rouge3'] = df.apply(lambda x: get_rougue_score(x['Actual Text'], x['Generated Text'], metric=\"rouge3\"), axis=1)\n",
    "df['RougeL'] = df.apply(lambda x: get_rougue_score(x['Actual Text'], x['Generated Text'], metric=\"rougeL\"), axis=1)\n",
    "df['RougeLsum'] = df.apply(lambda x: get_rougue_score(x['Actual Text'], x['Generated Text'], metric=\"rougeLsum\"), axis=1)"
   ]
  },
  {
   "cell_type": "code",
   "execution_count": 41,
   "id": "f21d0b86",
   "metadata": {},
   "outputs": [],
   "source": [
    "df.to_csv(\"bart_predictions_with_rouge.csv\", sep=',', encoding='utf-8', index=False)"
   ]
  },
  {
   "cell_type": "code",
   "execution_count": 42,
   "id": "a9618255",
   "metadata": {},
   "outputs": [
    {
     "name": "stdout",
     "output_type": "stream",
     "text": [
      "0.30324767659040786\n",
      "0.07597683348418278\n",
      "0.04240601255589576\n",
      "0.1975434101200998\n",
      "0.1975434101200998\n"
     ]
    }
   ],
   "source": [
    "print(df['Rouge1'].mean())\n",
    "print(df['Rouge2'].mean())\n",
    "print(df['Rouge3'].mean())\n",
    "print(df['RougeL'].mean())\n",
    "print(df['RougeLsum'].mean())"
   ]
  },
  {
   "cell_type": "markdown",
   "id": "43fea79d",
   "metadata": {},
   "source": [
    "## Prediction extractive _12EPOCH"
   ]
  },
  {
   "cell_type": "code",
   "execution_count": 43,
   "id": "eca3bfc9",
   "metadata": {},
   "outputs": [],
   "source": [
    "df = pd.read_csv(\"predictions_extractive_12epoch.csv\")\n",
    "df['Rouge1'] = df.apply(lambda x: get_rougue_score(x['Actual Text'], x['Generated Text'], metric=\"rouge1\"), axis=1)\n",
    "df['Rouge2'] = df.apply(lambda x: get_rougue_score(x['Actual Text'], x['Generated Text'], metric=\"rouge2\"), axis=1)\n",
    "df['Rouge3'] = df.apply(lambda x: get_rougue_score(x['Actual Text'], x['Generated Text'], metric=\"rouge3\"), axis=1)\n",
    "df['RougeL'] = df.apply(lambda x: get_rougue_score(x['Actual Text'], x['Generated Text'], metric=\"rougeL\"), axis=1)\n",
    "df['RougeLsum'] = df.apply(lambda x: get_rougue_score(x['Actual Text'], x['Generated Text'], metric=\"rougeLsum\"), axis=1)"
   ]
  },
  {
   "cell_type": "code",
   "execution_count": 44,
   "id": "888c2b66",
   "metadata": {},
   "outputs": [],
   "source": [
    "df.to_csv(\"predictions_extractive_12epoch_with_rouge.csv\", sep=',', encoding='utf-8', index=False)"
   ]
  },
  {
   "cell_type": "code",
   "execution_count": 45,
   "id": "4351d85b",
   "metadata": {},
   "outputs": [
    {
     "name": "stdout",
     "output_type": "stream",
     "text": [
      "0.3420935804294753\n",
      "0.07107610925044244\n",
      "0.022872501832466308\n",
      "0.20376950223567852\n",
      "0.20376950223567852\n"
     ]
    }
   ],
   "source": [
    "print(df['Rouge1'].mean())\n",
    "print(df['Rouge2'].mean())\n",
    "print(df['Rouge3'].mean())\n",
    "print(df['RougeL'].mean())\n",
    "print(df['RougeLsum'].mean())"
   ]
  },
  {
   "cell_type": "markdown",
   "id": "d6b0ffb5",
   "metadata": {},
   "source": [
    "## Prediction extractive my_12EPOCH"
   ]
  },
  {
   "cell_type": "code",
   "execution_count": 46,
   "id": "e19f4257",
   "metadata": {},
   "outputs": [],
   "source": [
    "dfa = pd.read_csv(\"predictions_extractive_my_12epoch.csv\")\n",
    "dfa['Rouge1'] = dfa.apply(lambda x: get_rougue_score(x['Actual Text'], x['Generated Text'], metric=\"rouge1\"), axis=1)\n",
    "dfa['Rouge2'] = dfa.apply(lambda x: get_rougue_score(x['Actual Text'], x['Generated Text'], metric=\"rouge2\"), axis=1)\n",
    "dfa['Rouge3'] = dfa.apply(lambda x: get_rougue_score(x['Actual Text'], x['Generated Text'], metric=\"rouge3\"), axis=1)\n",
    "dfa['RougeL'] = dfa.apply(lambda x: get_rougue_score(x['Actual Text'], x['Generated Text'], metric=\"rougeL\"), axis=1)\n",
    "dfa['RougeLsum'] = dfa.apply(lambda x: get_rougue_score(x['Actual Text'], x['Generated Text'], metric=\"rougeLsum\"), axis=1)"
   ]
  },
  {
   "cell_type": "code",
   "execution_count": 47,
   "id": "cf6b0d80",
   "metadata": {},
   "outputs": [
    {
     "name": "stdout",
     "output_type": "stream",
     "text": [
      "0.3319439854099592\n",
      "0.06875151021147312\n",
      "0.020799614376231502\n",
      "0.2054400595934515\n",
      "0.2054400595934515\n"
     ]
    }
   ],
   "source": [
    "print(dfa['Rouge1'].mean())\n",
    "print(dfa['Rouge2'].mean())\n",
    "print(dfa['Rouge3'].mean())\n",
    "print(dfa['RougeL'].mean())\n",
    "print(dfa['RougeLsum'].mean())"
   ]
  },
  {
   "cell_type": "code",
   "execution_count": 48,
   "id": "af3fcc7a",
   "metadata": {},
   "outputs": [],
   "source": [
    "dfa.to_csv(\"predictions_extractive_my_12epoch_with_rouge.csv\", sep=',', encoding='utf-8', index=False)"
   ]
  },
  {
   "cell_type": "markdown",
   "id": "663a8dfd",
   "metadata": {},
   "source": [
    "# Run below for generating the bert score of the abstract model per column\n",
    "## check the cummulative mean bert_score at the end"
   ]
  },
  {
   "cell_type": "code",
   "execution_count": 2,
   "id": "c29c192b",
   "metadata": {},
   "outputs": [],
   "source": [
    "from datasets import list_metrics, load_metric\n",
    "from statistics import mean\n",
    "metrics_list = list_metrics()"
   ]
  },
  {
   "cell_type": "code",
   "execution_count": 14,
   "id": "eca84d85",
   "metadata": {},
   "outputs": [],
   "source": [
    "df_abstract = pd.read_csv(\"yale_bart_predictions.csv\")"
   ]
  },
  {
   "cell_type": "code",
   "execution_count": 20,
   "id": "cd09cf68",
   "metadata": {},
   "outputs": [],
   "source": [
    "bertscore = load_metric(\"bertscore\")\n",
    "def bert_scorer(generated_sums, true_sums, metric):\n",
    "    return bertscore.compute(predictions=generated_sums, references=true_sums, lang=\"en\", verbose=False)[metric]\n"
   ]
  },
  {
   "cell_type": "code",
   "execution_count": 38,
   "id": "bf08c2ee",
   "metadata": {
    "scrolled": true
   },
   "outputs": [],
   "source": [
    "df_abstract['Rouge1'] = df_abstract.apply(lambda x: get_rougue_score(x['Actual Text'], x['Generated Text'], metric=\"rouge1\"), axis=1)\n",
    "df_abstract['Rouge2'] = df_abstract.apply(lambda x: get_rougue_score(x['Actual Text'], x['Generated Text'], metric=\"rouge2\"), axis=1)\n",
    "df_abstract['Rouge3'] = df_abstract.apply(lambda x: get_rougue_score(x['Actual Text'], x['Generated Text'], metric=\"rouge3\"), axis=1)\n",
    "df_abstract['RougeL'] = df_abstract.apply(lambda x: get_rougue_score(x['Actual Text'], x['Generated Text'], metric=\"rougeL\"), axis=1)\n",
    "df_abstract['RougeLsum'] = df_abstract.apply(lambda x: get_rougue_score(x['Actual Text'], x['Generated Text'], metric=\"rougeLsum\"), axis=1)"
   ]
  },
  {
   "cell_type": "code",
   "execution_count": 22,
   "id": "235e5795",
   "metadata": {},
   "outputs": [],
   "source": [
    "df_abstract[\"bertscore_f1\"] = bert_scorer(df_abstract['Actual Text'],df_abstract['Generated Text'], \"f1\")\n",
    "\n",
    "\n",
    "df_abstract[\"bertscore_recall\"] = bert_scorer(df_abstract['Actual Text'],df_abstract['Generated Text'], \"precision\")\n",
    "\n",
    "\n",
    "df_abstract[\"bertscore_precision\"] = bert_scorer(df_abstract['Actual Text'],df_abstract['Generated Text'], \"recall\")\n"
   ]
  },
  {
   "cell_type": "code",
   "execution_count": 23,
   "id": "d8d18abb",
   "metadata": {},
   "outputs": [
    {
     "data": {
      "text/plain": [
       "0      0.850033\n",
       "1      0.853063\n",
       "2      0.846542\n",
       "3      0.851886\n",
       "4      0.866587\n",
       "         ...   \n",
       "198    0.860166\n",
       "199    0.859972\n",
       "200    0.841402\n",
       "201    0.833093\n",
       "202    0.836516\n",
       "Name: bertscore_f1, Length: 203, dtype: float64"
      ]
     },
     "execution_count": 23,
     "metadata": {},
     "output_type": "execute_result"
    }
   ],
   "source": [
    "# df_abstract[\"bertscore_f1\"]"
   ]
  },
  {
   "cell_type": "code",
   "execution_count": 29,
   "id": "d8d18abb",
   "metadata": {},
   "outputs": [
    {
     "data": {
      "text/plain": [
       "0      0.853757\n",
       "1      0.852930\n",
       "2      0.851437\n",
       "3      0.850306\n",
       "4      0.870103\n",
       "         ...   \n",
       "198    0.863403\n",
       "199    0.860387\n",
       "200    0.844228\n",
       "201    0.840196\n",
       "202    0.837589\n",
       "Name: bertscore_precision, Length: 203, dtype: float64"
      ]
     },
     "execution_count": 29,
     "metadata": {},
     "output_type": "execute_result"
    }
   ],
   "source": [
    "df_abstract[\"bertscore_precision\"]"
   ]
  },
  {
   "cell_type": "code",
   "execution_count": 24,
   "id": "324d3e4c",
   "metadata": {},
   "outputs": [
    {
     "name": "stdout",
     "output_type": "stream",
     "text": [
      "Cummulative Bert Score F1: 0.8524506658756087\n"
     ]
    }
   ],
   "source": [
    "cummulative_bertscore = df_abstract[\"bertscore_f1\"].mean()\n",
    "print(\"Cummulative Bert Score F1:\",cummulative_bertscore)"
   ]
  },
  {
   "cell_type": "code",
   "execution_count": 58,
   "id": "c44fac8b",
   "metadata": {},
   "outputs": [
    {
     "name": "stdout",
     "output_type": "stream",
     "text": [
      "0.33837241229810683\n",
      "0.07474964717459602\n",
      "0.021157335557296438\n",
      "0.2033926005525895\n",
      "0.2033926005525895\n"
     ]
    }
   ],
   "source": [
    "print(df_abstract['Rouge1'].mean())\n",
    "print(df_abstract['Rouge2'].mean())\n",
    "print(df_abstract['Rouge3'].mean())\n",
    "print(df_abstract['RougeL'].mean())\n",
    "print(df_abstract['RougeLsum'].mean())"
   ]
  },
  {
   "cell_type": "code",
   "execution_count": 30,
   "id": "905f5ef9",
   "metadata": {},
   "outputs": [],
   "source": [
    "df_abstract.to_csv(\"yale_bart_predictions_bert_rouge.csv\", sep=',', encoding='utf-8', index=False)"
   ]
  },
  {
   "cell_type": "code",
   "execution_count": 39,
   "id": "86d7bde0",
   "metadata": {},
   "outputs": [
    {
     "data": {
      "text/html": [
       "<div>\n",
       "<style scoped>\n",
       "    .dataframe tbody tr th:only-of-type {\n",
       "        vertical-align: middle;\n",
       "    }\n",
       "\n",
       "    .dataframe tbody tr th {\n",
       "        vertical-align: top;\n",
       "    }\n",
       "\n",
       "    .dataframe thead th {\n",
       "        text-align: right;\n",
       "    }\n",
       "</style>\n",
       "<table border=\"1\" class=\"dataframe\">\n",
       "  <thead>\n",
       "    <tr style=\"text-align: right;\">\n",
       "      <th></th>\n",
       "      <th>Unnamed: 0</th>\n",
       "      <th>Generated Text</th>\n",
       "      <th>Actual Text</th>\n",
       "      <th>bertscore_f1</th>\n",
       "      <th>bertscore_recall</th>\n",
       "      <th>bertscore_precision</th>\n",
       "      <th>Rouge1</th>\n",
       "      <th>Rouge2</th>\n",
       "      <th>Rouge3</th>\n",
       "      <th>RougeL</th>\n",
       "      <th>RougeLsum</th>\n",
       "    </tr>\n",
       "  </thead>\n",
       "  <tbody>\n",
       "    <tr>\n",
       "      <th>0</th>\n",
       "      <td>0</td>\n",
       "      <td>Professor Mazzotta introduces Dante’s third an...</td>\n",
       "      <td>Professor Mazzotta continues his discussion of...</td>\n",
       "      <td>0.850033</td>\n",
       "      <td>0.853757</td>\n",
       "      <td>0.846342</td>\n",
       "      <td>0.378788</td>\n",
       "      <td>0.083969</td>\n",
       "      <td>0.000000</td>\n",
       "      <td>0.242424</td>\n",
       "      <td>0.242424</td>\n",
       "    </tr>\n",
       "    <tr>\n",
       "      <th>1</th>\n",
       "      <td>1</td>\n",
       "      <td>The lecture begins with an introduction to Dan...</td>\n",
       "      <td>Professor Mazzotta introduces students to the ...</td>\n",
       "      <td>0.853063</td>\n",
       "      <td>0.852930</td>\n",
       "      <td>0.853195</td>\n",
       "      <td>0.315217</td>\n",
       "      <td>0.054945</td>\n",
       "      <td>0.000000</td>\n",
       "      <td>0.217391</td>\n",
       "      <td>0.217391</td>\n",
       "    </tr>\n",
       "    <tr>\n",
       "      <th>2</th>\n",
       "      <td>2</td>\n",
       "      <td>The this lecture, Professor Mazzotta returns t...</td>\n",
       "      <td>This lecture deals with IV, VI and X. At the b...</td>\n",
       "      <td>0.846542</td>\n",
       "      <td>0.851437</td>\n",
       "      <td>0.841702</td>\n",
       "      <td>0.426829</td>\n",
       "      <td>0.079755</td>\n",
       "      <td>0.024691</td>\n",
       "      <td>0.225610</td>\n",
       "      <td>0.225610</td>\n",
       "    </tr>\n",
       "    <tr>\n",
       "      <th>3</th>\n",
       "      <td>3</td>\n",
       "      <td>Professor this lecture, Professor Mazzotta dis...</td>\n",
       "      <td>Professor Mazzotta begins this lecture by reca...</td>\n",
       "      <td>0.851886</td>\n",
       "      <td>0.850306</td>\n",
       "      <td>0.853472</td>\n",
       "      <td>0.420601</td>\n",
       "      <td>0.077922</td>\n",
       "      <td>0.008734</td>\n",
       "      <td>0.248927</td>\n",
       "      <td>0.248927</td>\n",
       "    </tr>\n",
       "    <tr>\n",
       "      <th>4</th>\n",
       "      <td>4</td>\n",
       "      <td>Professor this lecture, Professor Mazzotta int...</td>\n",
       "      <td>Professor Mazzotta introduces students to the,...</td>\n",
       "      <td>0.866587</td>\n",
       "      <td>0.870103</td>\n",
       "      <td>0.863098</td>\n",
       "      <td>0.426667</td>\n",
       "      <td>0.107623</td>\n",
       "      <td>0.018100</td>\n",
       "      <td>0.231111</td>\n",
       "      <td>0.231111</td>\n",
       "    </tr>\n",
       "    <tr>\n",
       "      <th>...</th>\n",
       "      <td>...</td>\n",
       "      <td>...</td>\n",
       "      <td>...</td>\n",
       "      <td>...</td>\n",
       "      <td>...</td>\n",
       "      <td>...</td>\n",
       "      <td>...</td>\n",
       "      <td>...</td>\n",
       "      <td>...</td>\n",
       "      <td>...</td>\n",
       "      <td>...</td>\n",
       "    </tr>\n",
       "    <tr>\n",
       "      <th>198</th>\n",
       "      <td>198</td>\n",
       "      <td>Professor Smith discusses the development of l...</td>\n",
       "      <td>Professor Rae explains how the growing scale a...</td>\n",
       "      <td>0.860166</td>\n",
       "      <td>0.863403</td>\n",
       "      <td>0.856953</td>\n",
       "      <td>0.348837</td>\n",
       "      <td>0.105882</td>\n",
       "      <td>0.035714</td>\n",
       "      <td>0.232558</td>\n",
       "      <td>0.232558</td>\n",
       "    </tr>\n",
       "    <tr>\n",
       "      <th>199</th>\n",
       "      <td>199</td>\n",
       "      <td>Professor lecture provides an overview of the ...</td>\n",
       "      <td>Professor Rae discusses the subprime mortgage ...</td>\n",
       "      <td>0.859972</td>\n",
       "      <td>0.860387</td>\n",
       "      <td>0.859557</td>\n",
       "      <td>0.244186</td>\n",
       "      <td>0.047059</td>\n",
       "      <td>0.000000</td>\n",
       "      <td>0.162791</td>\n",
       "      <td>0.162791</td>\n",
       "    </tr>\n",
       "    <tr>\n",
       "      <th>200</th>\n",
       "      <td>200</td>\n",
       "      <td>Guest speaker Jim Alexander, founder of Medley...</td>\n",
       "      <td>Jim Alexander, former CFO of the Enron subsidi...</td>\n",
       "      <td>0.841402</td>\n",
       "      <td>0.844228</td>\n",
       "      <td>0.838595</td>\n",
       "      <td>0.241546</td>\n",
       "      <td>0.039024</td>\n",
       "      <td>0.000000</td>\n",
       "      <td>0.183575</td>\n",
       "      <td>0.183575</td>\n",
       "    </tr>\n",
       "    <tr>\n",
       "      <th>201</th>\n",
       "      <td>201</td>\n",
       "      <td>Professor this lecture, Professor Rae recapitu...</td>\n",
       "      <td>Professor Rae introduces Adam Smith’s notion o...</td>\n",
       "      <td>0.833093</td>\n",
       "      <td>0.840196</td>\n",
       "      <td>0.826109</td>\n",
       "      <td>0.224490</td>\n",
       "      <td>0.020548</td>\n",
       "      <td>0.000000</td>\n",
       "      <td>0.170068</td>\n",
       "      <td>0.170068</td>\n",
       "    </tr>\n",
       "    <tr>\n",
       "      <th>202</th>\n",
       "      <td>202</td>\n",
       "      <td>In of the first classes of modern tennis racqu...</td>\n",
       "      <td>Professor Rae relates Marxist theories of mono...</td>\n",
       "      <td>0.836516</td>\n",
       "      <td>0.837589</td>\n",
       "      <td>0.835446</td>\n",
       "      <td>0.292135</td>\n",
       "      <td>0.052830</td>\n",
       "      <td>0.007605</td>\n",
       "      <td>0.179775</td>\n",
       "      <td>0.179775</td>\n",
       "    </tr>\n",
       "  </tbody>\n",
       "</table>\n",
       "<p>203 rows × 11 columns</p>\n",
       "</div>"
      ],
      "text/plain": [
       "     Unnamed: 0                                     Generated Text  \\\n",
       "0             0  Professor Mazzotta introduces Dante’s third an...   \n",
       "1             1  The lecture begins with an introduction to Dan...   \n",
       "2             2  The this lecture, Professor Mazzotta returns t...   \n",
       "3             3  Professor this lecture, Professor Mazzotta dis...   \n",
       "4             4  Professor this lecture, Professor Mazzotta int...   \n",
       "..          ...                                                ...   \n",
       "198         198  Professor Smith discusses the development of l...   \n",
       "199         199  Professor lecture provides an overview of the ...   \n",
       "200         200  Guest speaker Jim Alexander, founder of Medley...   \n",
       "201         201  Professor this lecture, Professor Rae recapitu...   \n",
       "202         202  In of the first classes of modern tennis racqu...   \n",
       "\n",
       "                                           Actual Text  bertscore_f1  \\\n",
       "0    Professor Mazzotta continues his discussion of...      0.850033   \n",
       "1    Professor Mazzotta introduces students to the ...      0.853063   \n",
       "2    This lecture deals with IV, VI and X. At the b...      0.846542   \n",
       "3    Professor Mazzotta begins this lecture by reca...      0.851886   \n",
       "4    Professor Mazzotta introduces students to the,...      0.866587   \n",
       "..                                                 ...           ...   \n",
       "198  Professor Rae explains how the growing scale a...      0.860166   \n",
       "199  Professor Rae discusses the subprime mortgage ...      0.859972   \n",
       "200  Jim Alexander, former CFO of the Enron subsidi...      0.841402   \n",
       "201  Professor Rae introduces Adam Smith’s notion o...      0.833093   \n",
       "202  Professor Rae relates Marxist theories of mono...      0.836516   \n",
       "\n",
       "     bertscore_recall  bertscore_precision    Rouge1    Rouge2    Rouge3  \\\n",
       "0            0.853757             0.846342  0.378788  0.083969  0.000000   \n",
       "1            0.852930             0.853195  0.315217  0.054945  0.000000   \n",
       "2            0.851437             0.841702  0.426829  0.079755  0.024691   \n",
       "3            0.850306             0.853472  0.420601  0.077922  0.008734   \n",
       "4            0.870103             0.863098  0.426667  0.107623  0.018100   \n",
       "..                ...                  ...       ...       ...       ...   \n",
       "198          0.863403             0.856953  0.348837  0.105882  0.035714   \n",
       "199          0.860387             0.859557  0.244186  0.047059  0.000000   \n",
       "200          0.844228             0.838595  0.241546  0.039024  0.000000   \n",
       "201          0.840196             0.826109  0.224490  0.020548  0.000000   \n",
       "202          0.837589             0.835446  0.292135  0.052830  0.007605   \n",
       "\n",
       "       RougeL  RougeLsum  \n",
       "0    0.242424   0.242424  \n",
       "1    0.217391   0.217391  \n",
       "2    0.225610   0.225610  \n",
       "3    0.248927   0.248927  \n",
       "4    0.231111   0.231111  \n",
       "..        ...        ...  \n",
       "198  0.232558   0.232558  \n",
       "199  0.162791   0.162791  \n",
       "200  0.183575   0.183575  \n",
       "201  0.170068   0.170068  \n",
       "202  0.179775   0.179775  \n",
       "\n",
       "[203 rows x 11 columns]"
      ]
     },
     "execution_count": 39,
     "metadata": {},
     "output_type": "execute_result"
    }
   ],
   "source": [
    "df_abstract"
   ]
  }
 ],
 "metadata": {
  "kernelspec": {
   "display_name": "Python 3",
   "language": "python",
   "name": "python3"
  },
  "language_info": {
   "codemirror_mode": {
    "name": "ipython",
    "version": 3
   },
   "file_extension": ".py",
   "mimetype": "text/x-python",
   "name": "python",
   "nbconvert_exporter": "python",
   "pygments_lexer": "ipython3",
   "version": "3.8.12"
  }
 },
 "nbformat": 4,
 "nbformat_minor": 5
}
